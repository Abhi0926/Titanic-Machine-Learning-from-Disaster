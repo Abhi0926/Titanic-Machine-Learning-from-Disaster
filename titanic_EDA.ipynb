{
 "cells": [
  {
   "cell_type": "code",
   "execution_count": 129,
   "metadata": {},
   "outputs": [],
   "source": [
    "#Let's get started\n",
    "import pandas as pd\n",
    "import numpy as np\n",
    "path = r'C:\\Users\\avi140\\Documents\\DS\\Books\\Kaggle\\Titanic\\train.csv'\n",
    "traindf = pd.read_csv(path)\n",
    "#traindf.head(5)\n",
    "#traindf.info()\n",
    "traindf[['Age','Fare']][traindf.Fare<5]\n",
    "\n",
    "#first we set those fares of 0 to nan\n",
    "traindf.Fare = traindf.Fare.map(lambda x: np.nan if x==0 else x)\n",
    "classmeans = traindf.pivot_table(values ='Fare',index = 'Pclass',aggfunc = 'mean')\n",
    "#embarkedCount = traindf.groupby (['Embarked']).count()\n",
    "traindf.Fare = traindf[['Fare', 'Pclass']].apply(lambda x: classmeans.loc[x['Pclass']] if pd.isnull(x['Fare']) else x['Fare'], axis=1 )\n",
    "\n",
    "#Let's replace NAN values with Mean Age\n",
    "meanAge=np.mean(traindf.Age)\n",
    "traindf.Age=traindf.Age.fillna(meanAge)\n",
    "\n",
    "#Replacing missing values with Unknown\n",
    "traindf.Cabin = traindf.Cabin.fillna('Unknown')\n",
    "from scipy.stats import mode\n",
    "modeEmbarked = traindf['Embarked'].fillna(traindf['Embarked'].mode()[0])\n",
    "traindf.Embarked = traindf.Embarked.fillna(modeEmbarked)\n",
    "#Test Check\n",
    "#traindf[traindf['PassengerId'].isin([62,830])]"
   ]
  }
 ],
 "metadata": {
  "kernelspec": {
   "display_name": "Python 3",
   "language": "python",
   "name": "python3"
  },
  "language_info": {
   "codemirror_mode": {
    "name": "ipython",
    "version": 3
   },
   "file_extension": ".py",
   "mimetype": "text/x-python",
   "name": "python",
   "nbconvert_exporter": "python",
   "pygments_lexer": "ipython3",
   "version": "3.6.1"
  }
 },
 "nbformat": 4,
 "nbformat_minor": 2
}
